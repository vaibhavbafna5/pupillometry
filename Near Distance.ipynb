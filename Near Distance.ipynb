version https://git-lfs.github.com/spec/v1
oid sha256:79e96ee69392da01d90c7428a05f245a4eeb1eb7fb900d2e48e9ffd62288a430
size 10235484
